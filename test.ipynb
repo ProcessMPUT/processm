{
 "cells": [
  {
   "cell_type": "markdown",
   "metadata": {},
   "source": [
    "# ProcessM"
   ]
  },
  {
   "cell_type": "code",
   "execution_count": 29,
   "metadata": {},
   "outputs": [],
   "source": [
    "# Imports & params\n",
    "import pandas as pd\n",
    "path = \"/Users/bgorka/Desktop/Projects/PolitechnikaPoznanska/processm\"\n",
    "# files = ['CoSeLoG_WABO_1', 'CoSeLoG_WABO_2', 'BPIC15_1', 'BPIC15_1f', 'BPIC15_2', 'BPIC15_2f', 'BPIC15_3', 'BPIC15_3f', 'BPIC15_4', 'BPIC15_4f', 'BPIC15_5', 'Receipt_phase_of_an_environmental_permit_application_process_WABO_CoSeLoG_project', 'BPIC15_5f', 'Sepsis_Cases-Event_Log', 'CoSeLoG_WABO_3', 'CoSeLoG_WABO_4', 'CoSeLoG_WABO_5', 'Hospital_log']\n",
    "files = ['BPIC15_1']\n",
    "calcParameters = 'precision' # or 'fitness'\n",
    "offlineStatsMode = 'true' # or 'false'\n",
    "mode = 'train' # or 'test'\n",
    "gridColumns = 4\n",
    "minRunNumber = 1\n",
    "maxRunNumber = 1 "
   ]
  },
  {
   "cell_type": "markdown",
   "metadata": {},
   "source": [
    "## Tabele\n",
    "### 1. Online vs Offline precyzja & dopasowanie"
   ]
  },
  {
   "cell_type": "code",
   "execution_count": 22,
   "metadata": {
    "pycharm": {
     "is_executing": false
    }
   },
   "outputs": [
    {
     "name": "stdout",
     "output_type": "stream",
     "text": [
      "-#########   BPIC15_1   ###########-\n",
      "------------------ OFFLINE ---------------------------------\n",
      "\\cellcolor{red!50!white} 0.038 \\begin{tikzpicture}[y=0.75em,baseline=0.5pt]\\draw[very thick] (0,0) -- (0,0.004);\\end{tikzpicture} &\n",
      "------------------ ONLINE ---------------------------------\n",
      "\\cellcolor{green!50!white} 0.041 \\begin{tikzpicture}[y=0.75em,baseline=0.5pt]\\draw[very thick] (0,0) -- (0,0.032);\\end{tikzpicture} &\n"
     ]
    }
   ],
   "source": [
    "for f in files:\n",
    "    print('-#########  ', f, '  ###########-')\n",
    "    \n",
    "    # Read files and merge into single pandas dataframe\n",
    "    columns = ['window_size', 'step', 'current_pos', 'value']\n",
    "    online = pd.DataFrame(columns=columns)\n",
    "    offline = pd.DataFrame(columns=columns)\n",
    "    \n",
    "    for run in range(minRunNumber, maxRunNumber + 1):\n",
    "        df = pd.read_csv(path + \"/\" + str(run) + \"-online-\" + mode + \"-\" + calcParameters + \"-\" + f, names=columns)\n",
    "        online = online.append(df, ignore_index=True)\n",
    "        \n",
    "        df = pd.read_csv(path + \"/\" + str(run) + \"-offline\" + offlineStatsMode + \"-\" + mode + \"-\" + calcParameters + \"-\" + f, names=columns)\n",
    "        offline = offline.append(df, ignore_index=True)\n",
    "    \n",
    "    # Calculate mean and std\n",
    "    online = online.groupby(['window_size', 'step'], as_index=False).agg({'value': ['mean', 'std']}).sort_values(by=['window_size', 'step'])\n",
    "    offline = offline.groupby(['window_size', 'step'], as_index=False).agg({'value': ['mean', 'std']}).sort_values(by=['window_size', 'step'])\n",
    "    \n",
    "    # Round values\n",
    "    online['value', 'mean'] = online['value', 'mean'].round(decimals=3)\n",
    "    offline['value', 'mean'] = offline['value', 'mean'].round(decimals=3)\n",
    "    online['value', 'std'] = online['value', 'std'].round(decimals=3).fillna(1.0).apply(lambda x: min(x * 2, 1.0))\n",
    "    offline['value', 'std'] = offline['value', 'std'].round(decimals=3).fillna(1.0).apply(lambda x: min(x * 2, 1.0))\n",
    "    \n",
    "    print('------------------ OFFLINE ---------------------------------')\n",
    "    for index, row in offline.iterrows():\n",
    "        offline_mean = row['value', 'mean']\n",
    "        offline_std = row['value', 'std']\n",
    "        \n",
    "        online_row = online.loc[index]\n",
    "        online_mean = online_row['value', 'mean']\n",
    "        \n",
    "        if offline_mean < online_mean:\n",
    "            print(\"\\\\cellcolor{red!50!white}\", end=' ')\n",
    "        elif offline_mean > online_mean:\n",
    "            print(\"\\\\cellcolor{green!50!white}\", end=' ')\n",
    "        print('{:.3f} '.format(offline_mean), end='')\n",
    "        print(\"\\\\begin{tikzpicture}[y=0.75em,baseline=0.5pt]\\draw[very thick] (0,0) -- (0,\", end='')\n",
    "        print('{:.3f}'.format(offline_std), end='')\n",
    "        print(\");\\end{tikzpicture} &\")\n",
    "    \n",
    "    print('------------------ ONLINE ---------------------------------')\n",
    "    for index, row in online.iterrows():\n",
    "        online_mean = row['value', 'mean']\n",
    "        online_std = row['value', 'std']\n",
    "        \n",
    "        offline_row = offline.loc[index]\n",
    "        offline_mean = offline_row['value', 'mean']\n",
    "        \n",
    "        if online_mean < offline_mean:\n",
    "            print(\"\\\\cellcolor{red!50!white}\", end=' ')\n",
    "        elif online_mean > offline_mean:\n",
    "            print(\"\\\\cellcolor{green!50!white}\", end=' ')\n",
    "        print('{:.3f} '.format(online_mean), end='')\n",
    "        print(\"\\\\begin{tikzpicture}[y=0.75em,baseline=0.5pt]\\draw[very thick] (0,0) -- (0,\", end='')\n",
    "        print('{:.3f}'.format(online_std), end='')\n",
    "        print(\");\\end{tikzpicture} &\")"
   ]
  },
  {
   "cell_type": "markdown",
   "metadata": {},
   "source": [
    "### 2. Grid - czas"
   ]
  },
  {
   "cell_type": "code",
   "execution_count": 30,
   "metadata": {
    "pycharm": {
     "name": "#%%\n"
    }
   },
   "outputs": [
    {
     "name": "stdout",
     "output_type": "stream",
     "text": [
      "\\pgfplotsset{every axis/.append style={%\n",
      "     enlarge x limits=false,%\n",
      "     enlarge y limits=false,%\n",
      "   }%\n",
      "}%\n",
      "\\tabcolsep=0.0em%\n",
      "\\begin{tabular}{rrrr}\n",
      "\\begin{tikzpicture}\n",
      "\\begin{semilogyaxis}[\n",
      "    xtick={10,20,30,40,50,75,100},\n",
      "    grid style=dashed,\n",
      "    ymajorgrids=true,\n",
      "    xmajorgrids=true,\n",
      "    height=0.20\\textheight,\n",
      "    extra description/.code={\\node[anchor=west,font=\\scriptsize] at (0.0, 0.1) { BPIC15\\_1 };}\n",
      "  ]\n",
      "  \\addplot [\n",
      "    color=red,\n",
      "    mark=square*,\n",
      "    dashed\n",
      "  ]\n",
      "  table {\n",
      "   10.0 12.0\n",
      "  };\n",
      "  \\addplot [\n",
      "    color=blue,\n",
      "    mark=*,\n",
      "    dashed\n",
      "  ]\n",
      "  table {\n",
      "   10.0 78.0\n",
      "  };\n",
      "\\end{semilogyaxis}\n",
      "\\end{tikzpicture}\n",
      "&\n",
      "\\end{tabular}\n"
     ]
    }
   ],
   "source": [
    "print(\"\\\\pgfplotsset{every axis/.append style={%\")\n",
    "print(\"     enlarge x limits=false,%\")\n",
    "print(\"     enlarge y limits=false,%\")\n",
    "print(\"   }%\")\n",
    "print(\"}%\")\n",
    "\n",
    "print(\"\\\\tabcolsep=0.0em%\")\n",
    "print(\"\\\\begin{tabular}{rrrr}\")\n",
    "\n",
    "i = 0\n",
    "for f in files:\n",
    "    print(\"\\\\begin{tikzpicture}\")\n",
    "    print(\"\\\\begin{semilogyaxis}[\")\n",
    "    print(\"    xtick={10,20,30,40,50,75,100},\")\n",
    "    print(\"    grid style=dashed,\")\n",
    "    print(\"    ymajorgrids=true,\")\n",
    "    print(\"    xmajorgrids=true,\")\n",
    "    print(\"    height=0.20\\\\textheight,\")\n",
    "    print(\"    extra description/.code={\\\\node[anchor=west,font=\\\\scriptsize] at (0.0, 0.1) {\", f.replace(\"_\", \"\\_\"), \"};}\")\n",
    "    print(\"  ]\")\n",
    "    i += 1\n",
    "    \n",
    "    # Read files and merge into single pandas dataframe\n",
    "    columns = ['parameter', 'alg', 'window_size', 'step', 'current_pos', 'value']\n",
    "    online = pd.DataFrame(columns=columns)\n",
    "    offline = pd.DataFrame(columns=columns)\n",
    "\n",
    "    for run in range(minRunNumber, maxRunNumber + 1):\n",
    "        df = pd.read_csv(path + \"/\" + str(run) + \"-online-stats-\" + f, sep='\\t', names=columns)\n",
    "        df = df[df['parameter'] == 'time']\n",
    "        online = online.append(df, ignore_index=True)\n",
    "\n",
    "        df = pd.read_csv(path + \"/\" + str(run) + \"-offline\" + offlineStatsMode + \"-\" + f, sep='\\t', names=columns)\n",
    "        df = df[df['parameter'] == 'time']\n",
    "        offline = offline.append(df, ignore_index=True)\n",
    "    \n",
    "    online = online.astype({'parameter': 'string', 'alg': 'string', 'window_size': 'int32', 'step': 'int32', 'current_pos': 'int32', 'value': 'float64'})\n",
    "    offline = offline.astype({'parameter': 'string', 'alg': 'string', 'window_size': 'int32', 'step': 'int32', 'current_pos': 'int32', 'value': 'float64'})\n",
    "    \n",
    "    for (m, df) in [('online', online), ('offline', offline)]:\n",
    "        group = df.groupby(['window_size', 'step'], as_index=False).agg({'value': 'mean'}).round(decimals=0)\n",
    "        \n",
    "        print(\"  \\\\addplot [\")\n",
    "        \n",
    "        if m == 'offline':\n",
    "            print(\"    color=blue,\")\n",
    "            print(\"    mark=*,\")\n",
    "        else:\n",
    "            print(\"    color=red,\")\n",
    "            print(\"    mark=square*,\")\n",
    "        \n",
    "        print(\"    dashed\")\n",
    "        print(\"  ]\")\n",
    "        print(\"  table {\")\n",
    "        for index, row in group.iterrows():\n",
    "            print(\"  \", row['window_size'], row['value'])\n",
    "        print(\"  };\")\n",
    "    print(\"\\\\end{semilogyaxis}\")\n",
    "    print(\"\\\\end{tikzpicture}\")\n",
    "    \n",
    "    if i % gridColumns == 0:\n",
    "        print(\"\\\\\\\\\")\n",
    "    else:\n",
    "        print(\"&\")\n",
    "print(\"\\\\end{tabular}\")"
   ]
  },
  {
   "cell_type": "markdown",
   "metadata": {},
   "source": [
    "### 3. Statystyka przebudowania drzew"
   ]
  },
  {
   "cell_type": "code",
   "execution_count": 32,
   "metadata": {
    "pycharm": {
     "name": "#%%\n"
    }
   },
   "outputs": [
    {
     "name": "stdout",
     "output_type": "stream",
     "text": [
      "\\pgfplotsset{every axis/.append style={%\n",
      "     enlarge x limits=false,%\n",
      "     enlarge y limits=false,%\n",
      "   }%\n",
      "}%\n",
      "\\tabcolsep=0.0em%\n",
      "\\begin{tabular}{rrrr}\n",
      "\\begin{tikzpicture}\n",
      "\\begin{axis}[\n",
      "    xtick={10,20,30,40,50,75,100},\n",
      "    grid style=dashed,\n",
      "    ymajorgrids=true,\n",
      "    xmajorgrids=true,\n",
      "    height=0.20\\textheight,\n",
      "    extra description/.code={\\node[anchor=east,font=\\scriptsize] at (1.0, 0.9) { BPIC15\\_1 };}\n",
      "  ]\n",
      "  \\addplot [\n",
      "    color=blue,\n",
      "    mark=*,\n",
      "    dashed\n",
      "  ]\n",
      "  table {\n",
      "  };\n",
      "  \\addplot [\n",
      "    color=green,\n",
      "    mark=diamond*,\n",
      "    dashed\n",
      "  ]\n",
      "  table {\n",
      "  };\n",
      "  \\addplot [\n",
      "    color=red,\n",
      "    mark=square*,\n",
      "    dashed\n",
      "  ]\n",
      "  table {\n",
      "  };\n",
      "\\end{axis}\n",
      "\\end{tikzpicture}\n",
      "&\n",
      "\\end{tabular}\n"
     ]
    }
   ],
   "source": [
    "print(\"\\\\pgfplotsset{every axis/.append style={%\")\n",
    "print(\"     enlarge x limits=false,%\")\n",
    "print(\"     enlarge y limits=false,%\")\n",
    "print(\"   }%\")\n",
    "print(\"}%\")\n",
    "\n",
    "print(\"\\\\tabcolsep=0.0em%\")\n",
    "print(\"\\\\begin{tabular}{rrrr}\")\n",
    "\n",
    "i = 0\n",
    "for f in files:\n",
    "    print(\"\\\\begin{tikzpicture}\")\n",
    "    print(\"\\\\begin{axis}[\")\n",
    "    print(\"    xtick={10,20,30,40,50,75,100},\")\n",
    "    print(\"    grid style=dashed,\")\n",
    "    print(\"    ymajorgrids=true,\")\n",
    "    print(\"    xmajorgrids=true,\")\n",
    "    print(\"    height=0.20\\\\textheight,\")\n",
    "    print(\"    extra description/.code={\\\\node[anchor=east,font=\\\\scriptsize] at (1.0, 0.9) {\", f.replace(\"_\", \"\\_\"), \"};}\")\n",
    "    print(\"  ]\")\n",
    "    i += 1\n",
    "    \n",
    "    # Read files and merge into single pandas dataframe\n",
    "    columns = ['window_size', 'step', 'buildFromZero', 'rebuild', 'ignored']\n",
    "    online = pd.DataFrame(columns=columns)\n",
    "\n",
    "    for run in range(minRunNumber, maxRunNumber + 1):\n",
    "        df = pd.read_csv(path + \"/\" + str(run) + \"-online-extra-\" + f, sep='\\t', names=columns)\n",
    "        df = df.groupby(['window_size'], as_index=False).agg({'buildFromZero': 'sum', 'rebuild': 'sum', 'ignored': 'sum'})\n",
    "        online = online.append(df, ignore_index=True)\n",
    "    \n",
    "    online = online.astype({'window_size': 'int32', 'buildFromZero': 'int32', 'rebuild': 'int32', 'ignored': 'int32'})\n",
    "    online = online.groupby(['window_size'], as_index=False).agg({'buildFromZero': 'mean', 'rebuild': 'mean', 'ignored': 'mean'}).round(decimals=0)\n",
    "\n",
    "    for m in ['buildFromZero', 'rebuild', 'ignored']:\n",
    "        print(\"  \\\\addplot [\")\n",
    "        if m == 'buildFromZero':\n",
    "            print(\"    color=blue,\")\n",
    "            print(\"    mark=*,\")\n",
    "        elif m == 'ignored':\n",
    "            print(\"    color=red,\")\n",
    "            print(\"    mark=square*,\")\n",
    "        else:\n",
    "            print(\"    color=green,\")\n",
    "            print(\"    mark=diamond*,\")\n",
    "        print(\"    dashed\")\n",
    "        print(\"  ]\")\n",
    "        print(\"  table {\")\n",
    "        for index, row in df.iterrows():\n",
    "            print(\"  \", row['window_size'], row[m])\n",
    "        print(\"  };\")\n",
    "        \n",
    "    print(\"\\\\end{axis}\")\n",
    "    print(\"\\\\end{tikzpicture}\")\n",
    "\n",
    "    if i % gridColumns == 0:\n",
    "        print(\"\\\\\\\\\")\n",
    "    else:\n",
    "        print(\"&\")\n",
    "\n",
    "print(\"\\\\end{tabular}\")"
   ]
  },
  {
   "cell_type": "code",
   "execution_count": null,
   "metadata": {},
   "outputs": [],
   "source": []
  }
 ],
 "metadata": {
  "kernelspec": {
   "display_name": "Python 3",
   "language": "python",
   "name": "python3"
  },
  "language_info": {
   "codemirror_mode": {
    "name": "ipython",
    "version": 3
   },
   "file_extension": ".py",
   "mimetype": "text/x-python",
   "name": "python",
   "nbconvert_exporter": "python",
   "pygments_lexer": "ipython3",
   "version": "3.8.5"
  },
  "pycharm": {
   "stem_cell": {
    "cell_type": "raw",
    "metadata": {
     "collapsed": false
    },
    "source": []
   }
  }
 },
 "nbformat": 4,
 "nbformat_minor": 1
}
